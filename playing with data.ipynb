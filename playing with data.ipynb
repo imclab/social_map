{
 "metadata": {
  "name": "playing with data"
 },
 "nbformat": 3,
 "nbformat_minor": 0,
 "worksheets": [
  {
   "cells": [
    {
     "cell_type": "code",
     "collapsed": false,
     "input": [
      "import csv\n",
      "import json"
     ],
     "language": "python",
     "metadata": {},
     "outputs": [],
     "prompt_number": 1
    },
    {
     "cell_type": "code",
     "collapsed": false,
     "input": [
      "f = open(\"loc-gowalla_totalCheckins.txt\", 'r')\n",
      "mycsv = csv.reader(f, delimiter='\\t')"
     ],
     "language": "python",
     "metadata": {},
     "outputs": [],
     "prompt_number": 4
    },
    {
     "cell_type": "code",
     "collapsed": false,
     "input": [
      "count = 1\n",
      "prevuser = None\n",
      "while True:\n",
      "    try:\n",
      "        readline = mycsv.next()\n",
      "    except StopIteration:\n",
      "        print count\n",
      "        break\n",
      "    if readline[0] != prevuser:\n",
      "        count += 1\n",
      "        prevuser = readline[0]"
     ],
     "language": "python",
     "metadata": {},
     "outputs": [
      {
       "output_type": "stream",
       "stream": "stdout",
       "text": [
        "107093\n"
       ]
      }
     ],
     "prompt_number": 5
    },
    {
     "cell_type": "code",
     "collapsed": false,
     "input": [
      "import requests"
     ],
     "language": "python",
     "metadata": {},
     "outputs": [],
     "prompt_number": 6
    },
    {
     "cell_type": "code",
     "collapsed": false,
     "input": [
      "from PIL import Image\n",
      "from StringIO import StringIO\n",
      "re_url = \"http://maps.googleapis.com/maps/api/staticmap?center=New+York,NY&zoom=13&size=600x300&sensor=false\"\n",
      "r = requests.get(re_url)\n",
      "newmap = \"newmap2\"\n",
      "if r.status_code == 200:\n",
      "    i = Image.open(StringIO(r.content))\n",
      "    i.save(newmap + \".png\", \"PNG\")"
     ],
     "language": "python",
     "metadata": {},
     "outputs": [],
     "prompt_number": 17
    },
    {
     "cell_type": "code",
     "collapsed": false,
     "input": [
      "i"
     ],
     "language": "python",
     "metadata": {},
     "outputs": [
      {
       "output_type": "pyout",
       "prompt_number": 12,
       "text": [
        "<PIL.PngImagePlugin.PngImageFile image mode=P size=600x300 at 0x112758368>"
       ]
      }
     ],
     "prompt_number": 12
    }
   ],
   "metadata": {}
  }
 ]
}